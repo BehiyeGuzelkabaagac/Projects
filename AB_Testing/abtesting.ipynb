{
 "cells": [
  {
   "cell_type": "markdown",
   "metadata": {},
   "source": [
    "**Business Problem**\n",
    "\n",
    "Digital advertising platforms offer advertisers different bidding strategies to optimize conversion rates. Recently, a new method called \"average bidding\" has been introduced as an alternative to the existing \"maximum bidding\" model.\n",
    "\n",
    "One of our clients, veridunya.com, has decided to test whether this new bidding model is more efficient. To determine whether average bidding provides a higher conversion rate compared to maximum bidding, they requested an A/B test to be conducted.\n",
    "\n",
    "This A/B test has been running for a month, and veridunya.com expects you to analyze the results. The most important success metric for the company is the Purchase metric. Therefore, statistical analyses should focus on this metric."
   ]
  },
  {
   "cell_type": "markdown",
   "metadata": {},
   "source": [
    "**Dataset Description**\n",
    "\n",
    "This dataset contains ad impressions and user interactions from an e-commerce website. It includes the number of clicks on displayed ads and the revenue generated. \n",
    "The study consists of two different groups:\n",
    "\n",
    "Control Group: The Maximum Bidding method was applied.\n",
    "\n",
    "Test Group: The Average Bidding method was applied.\n",
    "\n",
    "The data is stored in separate sheets of the Excel file named ab_test_data.xlsx.\n",
    "\n",
    "**Columns in the dataset**:\n",
    "\n",
    "Impression: The number of ad views.\n",
    "\n",
    "Click: The number of clicks on displayed ads.\n",
    "\n",
    "Purchase: The number of purchases made after clicking on an ad.\n",
    "\n",
    "Earning: The revenue generated after purchases."
   ]
  },
  {
   "cell_type": "markdown",
   "metadata": {},
   "source": [
    "**Task 1: Data Preparation and Exploration**\n",
    "\n",
    "*Step 1:*\n",
    "\n",
    "Read the control and test group data from the ab_test_data.xlsx file.\n",
    "\n",
    "Assign the control and test group data to separate variables.\n"
   ]
  },
  {
   "cell_type": "code",
   "execution_count": null,
   "metadata": {},
   "outputs": [],
   "source": [
    "import pandas as pd\n",
    "import matplotlib.pyplot as plt\n",
    "import numpy as np\n"
   ]
  },
  {
   "cell_type": "code",
   "execution_count": 2,
   "metadata": {},
   "outputs": [],
   "source": [
    "df_control = pd.read_excel(\"ab_test_data.xlsx\", sheet_name=\"Control Group\")\n",
    "df_test = pd.read_excel(\"ab_test_data.xlsx\", sheet_name=\"Test Group\")"
   ]
  },
  {
   "cell_type": "markdown",
   "metadata": {},
   "source": [
    "*Step 2:*\n",
    "\n",
    "Analyze the basic statistics of the control and test group data.\n",
    "\n",
    "Calculate key statistics such as mean, median, and standard deviation.\n",
    "\n",
    "Interpret whether there is a noticeable difference between the groups."
   ]
  },
  {
   "cell_type": "code",
   "execution_count": 3,
   "metadata": {},
   "outputs": [
    {
     "data": {
      "text/html": [
       "<div>\n",
       "<style scoped>\n",
       "    .dataframe tbody tr th:only-of-type {\n",
       "        vertical-align: middle;\n",
       "    }\n",
       "\n",
       "    .dataframe tbody tr th {\n",
       "        vertical-align: top;\n",
       "    }\n",
       "\n",
       "    .dataframe thead th {\n",
       "        text-align: right;\n",
       "    }\n",
       "</style>\n",
       "<table border=\"1\" class=\"dataframe\">\n",
       "  <thead>\n",
       "    <tr style=\"text-align: right;\">\n",
       "      <th></th>\n",
       "      <th>count</th>\n",
       "      <th>mean</th>\n",
       "      <th>std</th>\n",
       "      <th>min</th>\n",
       "      <th>25%</th>\n",
       "      <th>50%</th>\n",
       "      <th>75%</th>\n",
       "      <th>max</th>\n",
       "    </tr>\n",
       "  </thead>\n",
       "  <tbody>\n",
       "    <tr>\n",
       "      <th>Impression</th>\n",
       "      <td>40.0</td>\n",
       "      <td>101711.449068</td>\n",
       "      <td>20302.157862</td>\n",
       "      <td>45475.942965</td>\n",
       "      <td>85726.690349</td>\n",
       "      <td>99790.701078</td>\n",
       "      <td>115212.816543</td>\n",
       "      <td>147539.336329</td>\n",
       "    </tr>\n",
       "    <tr>\n",
       "      <th>Click</th>\n",
       "      <td>40.0</td>\n",
       "      <td>5100.657373</td>\n",
       "      <td>1329.985498</td>\n",
       "      <td>2189.753157</td>\n",
       "      <td>4124.304129</td>\n",
       "      <td>5001.220602</td>\n",
       "      <td>5923.803596</td>\n",
       "      <td>7959.125069</td>\n",
       "    </tr>\n",
       "    <tr>\n",
       "      <th>Purchase</th>\n",
       "      <td>40.0</td>\n",
       "      <td>550.894059</td>\n",
       "      <td>134.108201</td>\n",
       "      <td>267.028943</td>\n",
       "      <td>470.095533</td>\n",
       "      <td>531.206307</td>\n",
       "      <td>637.957088</td>\n",
       "      <td>801.795020</td>\n",
       "    </tr>\n",
       "    <tr>\n",
       "      <th>Earning</th>\n",
       "      <td>40.0</td>\n",
       "      <td>1908.568300</td>\n",
       "      <td>302.917783</td>\n",
       "      <td>1253.989525</td>\n",
       "      <td>1685.847205</td>\n",
       "      <td>1975.160522</td>\n",
       "      <td>2119.802784</td>\n",
       "      <td>2497.295218</td>\n",
       "    </tr>\n",
       "  </tbody>\n",
       "</table>\n",
       "</div>"
      ],
      "text/plain": [
       "            count           mean           std           min           25%  \\\n",
       "Impression   40.0  101711.449068  20302.157862  45475.942965  85726.690349   \n",
       "Click        40.0    5100.657373   1329.985498   2189.753157   4124.304129   \n",
       "Purchase     40.0     550.894059    134.108201    267.028943    470.095533   \n",
       "Earning      40.0    1908.568300    302.917783   1253.989525   1685.847205   \n",
       "\n",
       "                     50%            75%            max  \n",
       "Impression  99790.701078  115212.816543  147539.336329  \n",
       "Click        5001.220602    5923.803596    7959.125069  \n",
       "Purchase      531.206307     637.957088     801.795020  \n",
       "Earning      1975.160522    2119.802784    2497.295218  "
      ]
     },
     "execution_count": 3,
     "metadata": {},
     "output_type": "execute_result"
    }
   ],
   "source": [
    "df_control.describe().T"
   ]
  },
  {
   "cell_type": "code",
   "execution_count": 4,
   "metadata": {},
   "outputs": [
    {
     "data": {
      "text/html": [
       "<div>\n",
       "<style scoped>\n",
       "    .dataframe tbody tr th:only-of-type {\n",
       "        vertical-align: middle;\n",
       "    }\n",
       "\n",
       "    .dataframe tbody tr th {\n",
       "        vertical-align: top;\n",
       "    }\n",
       "\n",
       "    .dataframe thead th {\n",
       "        text-align: right;\n",
       "    }\n",
       "</style>\n",
       "<table border=\"1\" class=\"dataframe\">\n",
       "  <thead>\n",
       "    <tr style=\"text-align: right;\">\n",
       "      <th></th>\n",
       "      <th>count</th>\n",
       "      <th>mean</th>\n",
       "      <th>std</th>\n",
       "      <th>min</th>\n",
       "      <th>25%</th>\n",
       "      <th>50%</th>\n",
       "      <th>75%</th>\n",
       "      <th>max</th>\n",
       "    </tr>\n",
       "  </thead>\n",
       "  <tbody>\n",
       "    <tr>\n",
       "      <th>Impression</th>\n",
       "      <td>40.0</td>\n",
       "      <td>120512.411758</td>\n",
       "      <td>18807.448712</td>\n",
       "      <td>79033.834921</td>\n",
       "      <td>112691.970770</td>\n",
       "      <td>119291.300775</td>\n",
       "      <td>132050.578933</td>\n",
       "      <td>158605.920483</td>\n",
       "    </tr>\n",
       "    <tr>\n",
       "      <th>Click</th>\n",
       "      <td>40.0</td>\n",
       "      <td>3967.549761</td>\n",
       "      <td>923.095073</td>\n",
       "      <td>1836.629861</td>\n",
       "      <td>3376.819024</td>\n",
       "      <td>3931.359804</td>\n",
       "      <td>4660.497911</td>\n",
       "      <td>6019.695079</td>\n",
       "    </tr>\n",
       "    <tr>\n",
       "      <th>Purchase</th>\n",
       "      <td>40.0</td>\n",
       "      <td>582.106097</td>\n",
       "      <td>161.152513</td>\n",
       "      <td>311.629515</td>\n",
       "      <td>444.626828</td>\n",
       "      <td>551.355732</td>\n",
       "      <td>699.862360</td>\n",
       "      <td>889.910460</td>\n",
       "    </tr>\n",
       "    <tr>\n",
       "      <th>Earning</th>\n",
       "      <td>40.0</td>\n",
       "      <td>2514.890733</td>\n",
       "      <td>282.730852</td>\n",
       "      <td>1939.611243</td>\n",
       "      <td>2280.537426</td>\n",
       "      <td>2544.666107</td>\n",
       "      <td>2761.545405</td>\n",
       "      <td>3171.489708</td>\n",
       "    </tr>\n",
       "  </tbody>\n",
       "</table>\n",
       "</div>"
      ],
      "text/plain": [
       "            count           mean           std           min            25%  \\\n",
       "Impression   40.0  120512.411758  18807.448712  79033.834921  112691.970770   \n",
       "Click        40.0    3967.549761    923.095073   1836.629861    3376.819024   \n",
       "Purchase     40.0     582.106097    161.152513    311.629515     444.626828   \n",
       "Earning      40.0    2514.890733    282.730852   1939.611243    2280.537426   \n",
       "\n",
       "                      50%            75%            max  \n",
       "Impression  119291.300775  132050.578933  158605.920483  \n",
       "Click         3931.359804    4660.497911    6019.695079  \n",
       "Purchase       551.355732     699.862360     889.910460  \n",
       "Earning       2544.666107    2761.545405    3171.489708  "
      ]
     },
     "execution_count": 4,
     "metadata": {},
     "output_type": "execute_result"
    }
   ],
   "source": [
    "df_test.describe().T"
   ]
  },
  {
   "cell_type": "markdown",
   "metadata": {},
   "source": [
    "*Step 3:*\n",
    "\n",
    "After completing the analysis, merge the control and test group data using the concat method."
   ]
  },
  {
   "cell_type": "code",
   "execution_count": 5,
   "metadata": {},
   "outputs": [],
   "source": [
    "df_control[\"Group\"] = \"Control\"\n",
    "df_test[\"Group\"] = \"Test\"\n",
    "df = pd.concat([df_control, df_test], ignore_index=True)\n",
    "\n",
    "\n"
   ]
  },
  {
   "cell_type": "code",
   "execution_count": 7,
   "metadata": {},
   "outputs": [
    {
     "data": {
      "text/html": [
       "<div>\n",
       "<style scoped>\n",
       "    .dataframe tbody tr th:only-of-type {\n",
       "        vertical-align: middle;\n",
       "    }\n",
       "\n",
       "    .dataframe tbody tr th {\n",
       "        vertical-align: top;\n",
       "    }\n",
       "\n",
       "    .dataframe thead th {\n",
       "        text-align: right;\n",
       "    }\n",
       "</style>\n",
       "<table border=\"1\" class=\"dataframe\">\n",
       "  <thead>\n",
       "    <tr style=\"text-align: right;\">\n",
       "      <th></th>\n",
       "      <th>Impression</th>\n",
       "      <th>Click</th>\n",
       "      <th>Purchase</th>\n",
       "      <th>Earning</th>\n",
       "      <th>Group</th>\n",
       "    </tr>\n",
       "  </thead>\n",
       "  <tbody>\n",
       "    <tr>\n",
       "      <th>75</th>\n",
       "      <td>79234.911929</td>\n",
       "      <td>6002.213585</td>\n",
       "      <td>382.047116</td>\n",
       "      <td>2277.863984</td>\n",
       "      <td>Test</td>\n",
       "    </tr>\n",
       "    <tr>\n",
       "      <th>76</th>\n",
       "      <td>130702.239410</td>\n",
       "      <td>3626.320072</td>\n",
       "      <td>449.824592</td>\n",
       "      <td>2530.841327</td>\n",
       "      <td>Test</td>\n",
       "    </tr>\n",
       "    <tr>\n",
       "      <th>77</th>\n",
       "      <td>116481.873365</td>\n",
       "      <td>4702.782468</td>\n",
       "      <td>472.453725</td>\n",
       "      <td>2597.917632</td>\n",
       "      <td>Test</td>\n",
       "    </tr>\n",
       "    <tr>\n",
       "      <th>78</th>\n",
       "      <td>79033.834921</td>\n",
       "      <td>4495.428177</td>\n",
       "      <td>425.359102</td>\n",
       "      <td>2595.857880</td>\n",
       "      <td>Test</td>\n",
       "    </tr>\n",
       "    <tr>\n",
       "      <th>79</th>\n",
       "      <td>102257.454089</td>\n",
       "      <td>4800.068321</td>\n",
       "      <td>521.310729</td>\n",
       "      <td>2967.518390</td>\n",
       "      <td>Test</td>\n",
       "    </tr>\n",
       "  </tbody>\n",
       "</table>\n",
       "</div>"
      ],
      "text/plain": [
       "       Impression        Click    Purchase      Earning Group\n",
       "75   79234.911929  6002.213585  382.047116  2277.863984  Test\n",
       "76  130702.239410  3626.320072  449.824592  2530.841327  Test\n",
       "77  116481.873365  4702.782468  472.453725  2597.917632  Test\n",
       "78   79033.834921  4495.428177  425.359102  2595.857880  Test\n",
       "79  102257.454089  4800.068321  521.310729  2967.518390  Test"
      ]
     },
     "execution_count": 7,
     "metadata": {},
     "output_type": "execute_result"
    }
   ],
   "source": [
    "df.head()\n",
    "df.tail()"
   ]
  },
  {
   "cell_type": "markdown",
   "metadata": {},
   "source": [
    "**Task 2: Defining Hypothesis for A/B Testing**\n",
    "\n",
    "*Step 1:*\n",
    "Formulate the hypotheses as follows:\n",
    "\n",
    "**H0 (Null Hypothesis):** There is no significant difference between the two groups. (M1 = M2)\n",
    "\n",
    "**H1 (Alternative Hypothesis):** There is a significant difference between the two groups. (M1 ≠ M2)\n",
    "\n",
    "*Step 2:*\n",
    "Calculate and compare the purchase (Satın Alma) averages for the control and test groups."
   ]
  },
  {
   "cell_type": "code",
   "execution_count": 8,
   "metadata": {},
   "outputs": [
    {
     "data": {
      "text/plain": [
       "550.8940587702316"
      ]
     },
     "execution_count": 8,
     "metadata": {},
     "output_type": "execute_result"
    }
   ],
   "source": [
    "df_control[\"Purchase\"].mean()"
   ]
  },
  {
   "cell_type": "code",
   "execution_count": 9,
   "metadata": {},
   "outputs": [
    {
     "data": {
      "text/plain": [
       "582.1060966484677"
      ]
     },
     "execution_count": 9,
     "metadata": {},
     "output_type": "execute_result"
    }
   ],
   "source": [
    "df_test[\"Purchase\"].mean()"
   ]
  },
  {
   "cell_type": "markdown",
   "metadata": {},
   "source": [
    "We can see that the average Purchase for the Test Group is 582.106, and the average Purchase for the Control Group is 550.894."
   ]
  },
  {
   "cell_type": "markdown",
   "metadata": {},
   "source": [
    "**Task 3: Hypothesis Testing and Assumption Checks**\n",
    "\n",
    "*Step 1:*\n",
    "Before conducting the hypothesis test, check the following assumptions:\n",
    "\n",
    "*Normality Test*\n",
    "\n",
    "Evaluate whether the control and test groups meet the normality assumption based on the test results.\n",
    "\n",
    "*Variance Homogeneity Test*\n",
    "\n",
    "Analyze the test results to determine whether there is a variance difference between the groups.\n"
   ]
  },
  {
   "cell_type": "code",
   "execution_count": 14,
   "metadata": {},
   "outputs": [],
   "source": [
    "from scipy.stats import shapiro\n"
   ]
  },
  {
   "cell_type": "code",
   "execution_count": 15,
   "metadata": {},
   "outputs": [
    {
     "data": {
      "text/plain": [
       "ShapiroResult(statistic=0.9772692828452955, pvalue=0.5891071186294093)"
      ]
     },
     "execution_count": 15,
     "metadata": {},
     "output_type": "execute_result"
    }
   ],
   "source": [
    "shapiro(df.loc[df[\"Group\"]==\"Control\", \"Purchase\"])"
   ]
  },
  {
   "cell_type": "code",
   "execution_count": 16,
   "metadata": {},
   "outputs": [
    {
     "data": {
      "text/plain": [
       "ShapiroResult(statistic=0.9589454139336723, pvalue=0.15413405050730578)"
      ]
     },
     "execution_count": 16,
     "metadata": {},
     "output_type": "execute_result"
    }
   ],
   "source": [
    "shapiro(df.loc[df[\"Group\"]==\"Test\", \"Purchase\"])"
   ]
  },
  {
   "cell_type": "markdown",
   "metadata": {},
   "source": [
    "According to the normality test, if we look at the p-values of both groups, both groups have p-values > 0.05, so both groups meet the assumption of normality."
   ]
  },
  {
   "cell_type": "markdown",
   "metadata": {},
   "source": [
    "*Variance Homogeneity Test*\n"
   ]
  },
  {
   "cell_type": "code",
   "execution_count": 27,
   "metadata": {},
   "outputs": [],
   "source": [
    "from scipy.stats import levene, ttest_ind\n"
   ]
  },
  {
   "cell_type": "code",
   "execution_count": 23,
   "metadata": {},
   "outputs": [],
   "source": [
    "import pandas as pd\n",
    "from scipy.stats import levene"
   ]
  },
  {
   "cell_type": "code",
   "execution_count": 24,
   "metadata": {},
   "outputs": [],
   "source": [
    "control_purchase = df.loc[df[\"Group\"]==\"Control\", \"Purchase\"]\n",
    "test_purchase= df.loc[df[\"Group\"]==\"Test\", \"Purchase\"]\n",
    "stat, p_value = levene(control_purchase, test_purchase)"
   ]
  },
  {
   "cell_type": "code",
   "execution_count": 25,
   "metadata": {},
   "outputs": [
    {
     "name": "stdout",
     "output_type": "stream",
     "text": [
      "Levene Test Statistic: 2.6392694728747363\n",
      "p-value: 0.10828588271874791\n"
     ]
    }
   ],
   "source": [
    "print(\"Levene Test Statistic:\", stat)\n",
    "print(\"p-value:\", p_value)"
   ]
  },
  {
   "cell_type": "markdown",
   "metadata": {},
   "source": [
    "According to the homogeneity of variance test, if we look at the p-values of both groups, both groups have p-values > 0.05, so both groups meet the assumption of homogeneity of variance."
   ]
  },
  {
   "cell_type": "markdown",
   "metadata": {},
   "source": [
    "*Step 2:*\n",
    "Based on the normality and variance homogeneity test results, select the appropriate statistical test."
   ]
  },
  {
   "cell_type": "markdown",
   "metadata": {},
   "source": [
    "Since both of our assumptions are met, we can perform an A/B test. As our groups are independent of each other, we will use an independent two-sample t-test, which is ttest_ind."
   ]
  },
  {
   "cell_type": "markdown",
   "metadata": {},
   "source": [
    "*Step 3:*\n",
    "Interpret the p-value from the chosen test and determine whether there is a significant difference between the purchase averages of the control and test groups."
   ]
  },
  {
   "cell_type": "code",
   "execution_count": 28,
   "metadata": {},
   "outputs": [
    {
     "data": {
      "text/plain": [
       "TtestResult(statistic=-0.9415584300312966, pvalue=0.34932579202108416, df=78.0)"
      ]
     },
     "execution_count": 28,
     "metadata": {},
     "output_type": "execute_result"
    }
   ],
   "source": [
    "AB_Test = ttest_ind(control_purchase, test_purchase, equal_var=True)\n",
    "AB_Test"
   ]
  },
  {
   "cell_type": "markdown",
   "metadata": {},
   "source": [
    "Based on the A/B test results:\n",
    "\n",
    "T-statistic: -0.94\n",
    "\n",
    "p-value: 0.349\n",
    "\n",
    "Analysis:\n",
    "\n",
    "The p-value of 0.349 is greater than the typical significance level of 0.05, which indicates that the result is not statistically significant. This means that there is no strong evidence to suggest that the average bidding method performs better than the maximum bidding model in terms of the Purchase metric.\n",
    "\n",
    "In conclusion, based on the data from this A/B test, we cannot reject the null hypothesis, which states that there is no significant difference in the average purchase values between the control group (maximum bidding) and the test group (average bidding).\n",
    "\n",
    "Thus, from a statistical standpoint, the results do not support the claim that average bidding leads to better performance in terms of the Purchase metric. Further testing or adjustments to the bidding models might be needed to observe potential differences under different conditions."
   ]
  }
 ],
 "metadata": {
  "kernelspec": {
   "display_name": "base",
   "language": "python",
   "name": "python3"
  },
  "language_info": {
   "codemirror_mode": {
    "name": "ipython",
    "version": 3
   },
   "file_extension": ".py",
   "mimetype": "text/x-python",
   "name": "python",
   "nbconvert_exporter": "python",
   "pygments_lexer": "ipython3",
   "version": "3.12.7"
  }
 },
 "nbformat": 4,
 "nbformat_minor": 2
}
